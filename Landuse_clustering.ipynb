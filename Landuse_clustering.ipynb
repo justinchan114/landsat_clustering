{
  "nbformat": 4,
  "nbformat_minor": 0,
  "metadata": {
    "colab": {
      "provenance": [],
      "authorship_tag": "ABX9TyNfOj3FzgUF/oTHN72+9pgH",
      "include_colab_link": true
    },
    "kernelspec": {
      "name": "python3",
      "display_name": "Python 3"
    },
    "language_info": {
      "name": "python"
    }
  },
  "cells": [
    {
      "cell_type": "markdown",
      "metadata": {
        "id": "view-in-github",
        "colab_type": "text"
      },
      "source": [
        "<a href=\"https://colab.research.google.com/github/justinchan114/landsat_clustering/blob/main/Landuse_clustering.ipynb\" target=\"_parent\"><img src=\"https://colab.research.google.com/assets/colab-badge.svg\" alt=\"Open In Colab\"/></a>"
      ]
    },
    {
      "cell_type": "code",
      "execution_count": null,
      "metadata": {
        "id": "tGDFglU9Oedv"
      },
      "outputs": [],
      "source": [
        "import ee\n",
        "ee.Authenticate()\n",
        "ee.Initialize()"
      ]
    },
    {
      "cell_type": "code",
      "source": [
        "#Define coordinate of study, an area near Metro Vancouver\n",
        "coords = [[-122.4,49.0],\n",
        "          [-122.0,49.0],\n",
        "          [-122.0,49.2],\n",
        "          [-122.4,49.2],\n",
        "          [-122.4,49.0]]\n",
        "\n",
        "van = ee.Geometry.Polygon(coords)\n",
        "\n",
        "#Get the landsat 8 image set(USGS Landsat 8 Collection 2 Tier 1 and Real-Time data Raw Scenes)\n",
        "input = ee.ImageCollection(\"LANDSAT/LC08/C02/T1_RT\")\\\n",
        "    .filterBounds(van)\\\n",
        "    .select([\"B1\", \"B2\", \"B3\", \"B4\", \"B5\", \"B6\", \"B7\", \"B8\", \"B10\", \"B11\"])\n",
        "\n",
        "#Computes a Landsat TOA composite from a collection of raw Landsat scenes\n",
        "#Making image composite to ensure the image could cover the area of study with least clouds\n",
        "#The way using .sort(\"CLOUD_COVER\").first() will only return one image and does not cover the whole area of study\n",
        "landsat8 = ee.Algorithms.Landsat.simpleComposite(\n",
        "    collection = input.filterDate('2018-05-01', '2018-08-31'),\n",
        "    asFloat=True)\n",
        "\n",
        "#Making the training dataset\n",
        "training = landsat8.sample(region=van, scale=30, numPixels=5000)\n",
        "\n",
        "#Instantiate the clusterer and train it\n",
        "clusterer = ee.Clusterer.wekaKMeans(10).train(training)\n",
        "\n",
        "#Cluster the image set(landsat8) using the trained clusterer\n",
        "result = landsat8.clip(van).cluster(clusterer)"
      ],
      "metadata": {
        "id": "psdUenlmO2E5"
      },
      "execution_count": 29,
      "outputs": []
    },
    {
      "cell_type": "code",
      "source": [
        "import folium"
      ],
      "metadata": {
        "id": "42ixgVPhaq7S"
      },
      "execution_count": 30,
      "outputs": []
    },
    {
      "cell_type": "code",
      "source": [
        "# Define a function to add a Earth Engine layer to folium\n",
        "def add_ee_layer(self, ee_image_object, vis_params, name):\n",
        "  map_id_dict = ee.Image(ee_image_object).getMapId(vis_params)\n",
        "  folium.raster_layers.TileLayer(\n",
        "      tiles = map_id_dict['tile_fetcher'].url_format,\n",
        "      attr = 'Map Data &copy; <a href=\"https://earthengine.google.com/\">Google Earth Engine</a>',\n",
        "      name = name,\n",
        "      overlay = True,\n",
        "      control = True\n",
        "  ).add_to(self)"
      ],
      "metadata": {
        "id": "ik_0VBf9UZBh"
      },
      "execution_count": 21,
      "outputs": []
    },
    {
      "cell_type": "code",
      "source": [
        "# Define the visualizer parameters\n",
        "vis_params = {'min': 0, 'max': 9, 'palette': ['red', 'blue', 'green', 'yellow', 'purple', 'orange', 'pink', 'brown', 'black', 'white']}\n",
        "\n",
        "\n",
        "#Parameters for displaying rgb as base map\n",
        "rgb_params = {'bands' : [\"B4\",\"B3\",\"B2\"],\n",
        "              'gamma': 1,\n",
        "              'max': 0.19,\n",
        "              'min': 0.02}\n",
        "\n",
        "# Create a folium map\n",
        "m = folium.Map(location=[49.1, -122.2], zoom_start=12)\n",
        "\n",
        "add_ee_layer(m, landsat8.clip(van), rgb_params, 'rgb')\n",
        "add_ee_layer(m, result.clip(van), vis_params, 'clusters')\n",
        "\n",
        "m.add_child(folium.LayerControl())\n",
        "\n",
        "# Display the map\n",
        "m\n"
      ],
      "metadata": {
        "colab": {
          "base_uri": "https://localhost:8080/",
          "height": 866
        },
        "id": "7LqHaRJgGLDi",
        "outputId": "08698fef-976f-4606-b4ba-48ce5c35c544"
      },
      "execution_count": 32,
      "outputs": [
        {
          "output_type": "execute_result",
          "data": {
            "text/plain": [
              "<folium.folium.Map at 0x7f9aa64b1fd0>"
            ],
            "text/html": [
              "<div style=\"width:100%;\"><div style=\"position:relative;width:100%;height:0;padding-bottom:60%;\"><span style=\"color:#565656\">Make this Notebook Trusted to load map: File -> Trust Notebook</span><iframe srcdoc=\"&lt;!DOCTYPE html&gt;\n",
              "&lt;html&gt;\n",
              "&lt;head&gt;\n",
              "    \n",
              "    &lt;meta http-equiv=&quot;content-type&quot; content=&quot;text/html; charset=UTF-8&quot; /&gt;\n",
              "    \n",
              "        &lt;script&gt;\n",
              "            L_NO_TOUCH = false;\n",
              "            L_DISABLE_3D = false;\n",
              "        &lt;/script&gt;\n",
              "    \n",
              "    &lt;style&gt;html, body {width: 100%;height: 100%;margin: 0;padding: 0;}&lt;/style&gt;\n",
              "    &lt;style&gt;#map {position:absolute;top:0;bottom:0;right:0;left:0;}&lt;/style&gt;\n",
              "    &lt;script src=&quot;https://cdn.jsdelivr.net/npm/leaflet@1.6.0/dist/leaflet.js&quot;&gt;&lt;/script&gt;\n",
              "    &lt;script src=&quot;https://code.jquery.com/jquery-1.12.4.min.js&quot;&gt;&lt;/script&gt;\n",
              "    &lt;script src=&quot;https://maxcdn.bootstrapcdn.com/bootstrap/3.2.0/js/bootstrap.min.js&quot;&gt;&lt;/script&gt;\n",
              "    &lt;script src=&quot;https://cdnjs.cloudflare.com/ajax/libs/Leaflet.awesome-markers/2.0.2/leaflet.awesome-markers.js&quot;&gt;&lt;/script&gt;\n",
              "    &lt;link rel=&quot;stylesheet&quot; href=&quot;https://cdn.jsdelivr.net/npm/leaflet@1.6.0/dist/leaflet.css&quot;/&gt;\n",
              "    &lt;link rel=&quot;stylesheet&quot; href=&quot;https://maxcdn.bootstrapcdn.com/bootstrap/3.2.0/css/bootstrap.min.css&quot;/&gt;\n",
              "    &lt;link rel=&quot;stylesheet&quot; href=&quot;https://maxcdn.bootstrapcdn.com/bootstrap/3.2.0/css/bootstrap-theme.min.css&quot;/&gt;\n",
              "    &lt;link rel=&quot;stylesheet&quot; href=&quot;https://maxcdn.bootstrapcdn.com/font-awesome/4.6.3/css/font-awesome.min.css&quot;/&gt;\n",
              "    &lt;link rel=&quot;stylesheet&quot; href=&quot;https://cdnjs.cloudflare.com/ajax/libs/Leaflet.awesome-markers/2.0.2/leaflet.awesome-markers.css&quot;/&gt;\n",
              "    &lt;link rel=&quot;stylesheet&quot; href=&quot;https://cdn.jsdelivr.net/gh/python-visualization/folium/folium/templates/leaflet.awesome.rotate.min.css&quot;/&gt;\n",
              "    \n",
              "            &lt;meta name=&quot;viewport&quot; content=&quot;width=device-width,\n",
              "                initial-scale=1.0, maximum-scale=1.0, user-scalable=no&quot; /&gt;\n",
              "            &lt;style&gt;\n",
              "                #map_0a274f544e818acc21bedf2949d28e55 {\n",
              "                    position: relative;\n",
              "                    width: 100.0%;\n",
              "                    height: 100.0%;\n",
              "                    left: 0.0%;\n",
              "                    top: 0.0%;\n",
              "                }\n",
              "            &lt;/style&gt;\n",
              "        \n",
              "&lt;/head&gt;\n",
              "&lt;body&gt;\n",
              "    \n",
              "    \n",
              "            &lt;div class=&quot;folium-map&quot; id=&quot;map_0a274f544e818acc21bedf2949d28e55&quot; &gt;&lt;/div&gt;\n",
              "        \n",
              "&lt;/body&gt;\n",
              "&lt;script&gt;\n",
              "    \n",
              "    \n",
              "            var map_0a274f544e818acc21bedf2949d28e55 = L.map(\n",
              "                &quot;map_0a274f544e818acc21bedf2949d28e55&quot;,\n",
              "                {\n",
              "                    center: [49.1, -122.2],\n",
              "                    crs: L.CRS.EPSG3857,\n",
              "                    zoom: 12,\n",
              "                    zoomControl: true,\n",
              "                    preferCanvas: false,\n",
              "                }\n",
              "            );\n",
              "\n",
              "            \n",
              "\n",
              "        \n",
              "    \n",
              "            var tile_layer_056c025037ca81d7a5e8ba0e8815e31b = L.tileLayer(\n",
              "                &quot;https://{s}.tile.openstreetmap.org/{z}/{x}/{y}.png&quot;,\n",
              "                {&quot;attribution&quot;: &quot;Data by \\u0026copy; \\u003ca href=\\&quot;http://openstreetmap.org\\&quot;\\u003eOpenStreetMap\\u003c/a\\u003e, under \\u003ca href=\\&quot;http://www.openstreetmap.org/copyright\\&quot;\\u003eODbL\\u003c/a\\u003e.&quot;, &quot;detectRetina&quot;: false, &quot;maxNativeZoom&quot;: 18, &quot;maxZoom&quot;: 18, &quot;minZoom&quot;: 0, &quot;noWrap&quot;: false, &quot;opacity&quot;: 1, &quot;subdomains&quot;: &quot;abc&quot;, &quot;tms&quot;: false}\n",
              "            ).addTo(map_0a274f544e818acc21bedf2949d28e55);\n",
              "        \n",
              "    \n",
              "            var tile_layer_aca1e6091cd98ffa785542dcadafcc9a = L.tileLayer(\n",
              "                &quot;https://earthengine.googleapis.com/v1alpha/projects/earthengine-legacy/maps/e8a6a97df3da1dac45e3e551d503e763-a791f96098fb79cdffba5e1bf5b8d53b/tiles/{z}/{x}/{y}&quot;,\n",
              "                {&quot;attribution&quot;: &quot;Map Data \\u0026copy; \\u003ca href=\\&quot;https://earthengine.google.com/\\&quot;\\u003eGoogle Earth Engine\\u003c/a\\u003e&quot;, &quot;detectRetina&quot;: false, &quot;maxNativeZoom&quot;: 18, &quot;maxZoom&quot;: 18, &quot;minZoom&quot;: 0, &quot;noWrap&quot;: false, &quot;opacity&quot;: 1, &quot;subdomains&quot;: &quot;abc&quot;, &quot;tms&quot;: false}\n",
              "            ).addTo(map_0a274f544e818acc21bedf2949d28e55);\n",
              "        \n",
              "    \n",
              "            var tile_layer_0c0519afdbdc31b48714215de5280bf1 = L.tileLayer(\n",
              "                &quot;https://earthengine.googleapis.com/v1alpha/projects/earthengine-legacy/maps/73a7ff4745b1356c3a288225d16fdc67-4063cd395f4b88df412d0f7a329bac83/tiles/{z}/{x}/{y}&quot;,\n",
              "                {&quot;attribution&quot;: &quot;Map Data \\u0026copy; \\u003ca href=\\&quot;https://earthengine.google.com/\\&quot;\\u003eGoogle Earth Engine\\u003c/a\\u003e&quot;, &quot;detectRetina&quot;: false, &quot;maxNativeZoom&quot;: 18, &quot;maxZoom&quot;: 18, &quot;minZoom&quot;: 0, &quot;noWrap&quot;: false, &quot;opacity&quot;: 1, &quot;subdomains&quot;: &quot;abc&quot;, &quot;tms&quot;: false}\n",
              "            ).addTo(map_0a274f544e818acc21bedf2949d28e55);\n",
              "        \n",
              "    \n",
              "            var layer_control_15aeb7c7a5408061b3b4881b4f2321f4 = {\n",
              "                base_layers : {\n",
              "                    &quot;openstreetmap&quot; : tile_layer_056c025037ca81d7a5e8ba0e8815e31b,\n",
              "                },\n",
              "                overlays :  {\n",
              "                    &quot;rgb&quot; : tile_layer_aca1e6091cd98ffa785542dcadafcc9a,\n",
              "                    &quot;clusters&quot; : tile_layer_0c0519afdbdc31b48714215de5280bf1,\n",
              "                },\n",
              "            };\n",
              "            L.control.layers(\n",
              "                layer_control_15aeb7c7a5408061b3b4881b4f2321f4.base_layers,\n",
              "                layer_control_15aeb7c7a5408061b3b4881b4f2321f4.overlays,\n",
              "                {&quot;autoZIndex&quot;: true, &quot;collapsed&quot;: true, &quot;position&quot;: &quot;topright&quot;}\n",
              "            ).addTo(map_0a274f544e818acc21bedf2949d28e55);\n",
              "        \n",
              "&lt;/script&gt;\n",
              "&lt;/html&gt;\" style=\"position:absolute;width:100%;height:100%;left:0;top:0;border:none !important;\" allowfullscreen webkitallowfullscreen mozallowfullscreen></iframe></div></div>"
            ]
          },
          "metadata": {},
          "execution_count": 32
        }
      ]
    },
    {
      "cell_type": "code",
      "source": [],
      "metadata": {
        "id": "hZHoqweza7xL"
      },
      "execution_count": null,
      "outputs": []
    }
  ]
}